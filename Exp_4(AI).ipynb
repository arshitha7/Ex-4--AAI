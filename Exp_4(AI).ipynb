{
  "nbformat": 4,
  "nbformat_minor": 0,
  "metadata": {
    "colab": {
      "provenance": []
    },
    "kernelspec": {
      "name": "python3",
      "display_name": "Python 3"
    },
    "language_info": {
      "name": "python"
    }
  },
  "cells": [
    {
      "cell_type": "code",
      "execution_count": 1,
      "metadata": {
        "id": "oatpMeLYRDsR"
      },
      "outputs": [],
      "source": [
        "import numpy as np\n",
        "#Define the transition matrix\n",
        "transition_matrix =np.array([[0.7,0.3],[0.4,0.6]])\n",
        "#Define the emission matrix\n",
        "emission_matrix =np.array ([[0.1,0.9],[0.8,0.2]])\n",
        "#Define the initial probabilities\n",
        "initial_probabilities = np.array([0.5,0.5])\n",
        "#Define the observed sequence\n",
        "observed_sequence = np.array([1,1,1,0,0,1])"
      ]
    },
    {
      "cell_type": "code",
      "source": [
        "# Initialize the alpha matrix\n",
        "alpha = np. zeros ((len(observed_sequence) ,len (initial_probabilities) ) )\n",
        "# Calculate the first row of the alpha matrix\n",
        "alpha [0,:] = initial_probabilities *emission_matrix[:, observed_sequence [0]]"
      ],
      "metadata": {
        "id": "DpAjAaPPRUsX"
      },
      "execution_count": 2,
      "outputs": []
    },
    {
      "cell_type": "code",
      "source": [
        "# Initialize the alpha matrix\n",
        "alpha = np. zeros ((len(observed_sequence) ,len (initial_probabilities) ) )\n",
        "# Calculate the first row of the alpha matrix\n",
        "alpha [0,:] = initial_probabilities *emission_matrix[:, observed_sequence [0]]"
      ],
      "metadata": {
        "id": "LGkbXstHRV8O"
      },
      "execution_count": 3,
      "outputs": []
    },
    {
      "cell_type": "code",
      "source": [
        "# Loop through the rest of the observed sequence and calculate the rest of the alpha matrix\n",
        "for t in range (1, len (observed_sequence) ) :\n",
        "  for j in range (len (initial_probabilities) ) :\n",
        "    alpha[t,j]= emission_matrix [j,observed_sequence[t]] *np.sum(alpha[t-1:]*transition_matrix[:, j])"
      ],
      "metadata": {
        "id": "zWORnsrjRXWZ"
      },
      "execution_count": 4,
      "outputs": []
    },
    {
      "cell_type": "code",
      "source": [
        "# Calculate the probability of the observed sequence\n",
        "probability = np.sum(alpha[-1,:])\n",
        "# Print the probability of the observed sequence\n",
        "print (\"The probability of the observed sequence is: \" ,probability)\n",
        "# Find the most likely sequence of weather states given the observed sequence\n",
        "most_likely_sequence=[]\n",
        "for t in range (len (observed_sequence)):\n",
        "  if alpha [t, 0] > alpha [t,1]:\n",
        "    most_likely_sequence.append (\"sunny\")\n",
        "  else:\n",
        "    most_likely_sequence.append (\"rainy\")"
      ],
      "metadata": {
        "colab": {
          "base_uri": "https://localhost:8080/"
        },
        "id": "qfaYyVPMRZTJ",
        "outputId": "7e21cd57-1f9b-4214-f78c-c1b2873b1a34"
      },
      "execution_count": 5,
      "outputs": [
        {
          "output_type": "stream",
          "name": "stdout",
          "text": [
            "The probability of the observed sequence is:  0.024066630840582106\n"
          ]
        }
      ]
    },
    {
      "cell_type": "code",
      "source": [
        "print(\"The most likely sequence of Weather States is\",most_likely_sequence)"
      ],
      "metadata": {
        "colab": {
          "base_uri": "https://localhost:8080/"
        },
        "id": "qbYFCERYRbds",
        "outputId": "0307feb6-eddb-49b5-a9e9-407cbdc7a254"
      },
      "execution_count": 6,
      "outputs": [
        {
          "output_type": "stream",
          "name": "stdout",
          "text": [
            "The most likely sequence of Weather States is ['sunny', 'sunny', 'sunny', 'rainy', 'rainy', 'sunny']\n"
          ]
        }
      ]
    }
  ]
}